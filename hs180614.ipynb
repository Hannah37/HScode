{
 "cells": [
  {
   "cell_type": "markdown",
   "metadata": {},
   "source": [
    "##1. Example of calculating the similarity between words using pre-trained wiki word vectors"
   ]
  },
  {
   "cell_type": "code",
   "execution_count": 8,
   "metadata": {},
   "outputs": [
    {
     "name": "stderr",
     "output_type": "stream",
     "text": [
      "C:\\Anaconda3\\lib\\site-packages\\gensim\\utils.py:1197: UserWarning: detected Windows; aliasing chunkize to chunkize_serial\n",
      "  warnings.warn(\"detected Windows; aliasing chunkize to chunkize_serial\")\n"
     ]
    },
    {
     "data": {
      "text/plain": [
       "[('woman', 0.6511167287826538),\n",
       " ('man—', 0.5554498434066772),\n",
       " ('man/one', 0.5516811609268188),\n",
       " ('stranger', 0.5505865216255188),\n",
       " ('boy', 0.5456836223602295),\n",
       " ('woman—a', 0.5385604500770569),\n",
       " ('spider', 0.5372462272644043),\n",
       " ('girl', 0.5341853499412537),\n",
       " ('man—a', 0.5321135520935059),\n",
       " ('man—and', 0.5311824083328247)]"
      ]
     },
     "execution_count": 8,
     "metadata": {},
     "output_type": "execute_result"
    }
   ],
   "source": [
    "from gensim.models.keyedvectors import KeyedVectors\n",
    "corpus=KeyedVectors.load_word2vec_format(\"wiki.en.vec\")\n",
    "corpus.most_similar(\"man\")\n"
   ]
  },
  {
   "cell_type": "code",
   "execution_count": 68,
   "metadata": {
    "scrolled": true
   },
   "outputs": [
    {
     "data": {
      "text/plain": [
       "gensim.models.keyedvectors.Word2VecKeyedVectors"
      ]
     },
     "execution_count": 68,
     "metadata": {},
     "output_type": "execute_result"
    }
   ],
   "source": [
    "type(corpus)"
   ]
  },
  {
   "cell_type": "code",
   "execution_count": 24,
   "metadata": {},
   "outputs": [
    {
     "data": {
      "text/plain": [
       "0.23583984923717163"
      ]
     },
     "execution_count": 24,
     "metadata": {},
     "output_type": "execute_result"
    }
   ],
   "source": [
    "corpus.similarity('vegetable','horse')"
   ]
  },
  {
   "cell_type": "code",
   "execution_count": 29,
   "metadata": {},
   "outputs": [
    {
     "data": {
      "text/plain": [
       "0.5242442005632283"
      ]
     },
     "execution_count": 29,
     "metadata": {},
     "output_type": "execute_result"
    }
   ],
   "source": [
    "corpus.similarity('donkey','horse')"
   ]
  },
  {
   "cell_type": "markdown",
   "metadata": {},
   "source": [
    "##2. Classification of HScode.xlsx file accoring to the size of item categories \n",
    "\n",
    "Find a code in the bigger to smaller categories."
   ]
  },
  {
   "cell_type": "code",
   "execution_count": 1,
   "metadata": {},
   "outputs": [
    {
     "name": "stdout",
     "output_type": "stream",
     "text": [
      "(17966, 2)\n"
     ]
    },
    {
     "data": {
      "text/html": [
       "<div>\n",
       "<style scoped>\n",
       "    .dataframe tbody tr th:only-of-type {\n",
       "        vertical-align: middle;\n",
       "    }\n",
       "\n",
       "    .dataframe tbody tr th {\n",
       "        vertical-align: top;\n",
       "    }\n",
       "\n",
       "    .dataframe thead th {\n",
       "        text-align: right;\n",
       "    }\n",
       "</style>\n",
       "<table border=\"1\" class=\"dataframe\">\n",
       "  <thead>\n",
       "    <tr style=\"text-align: right;\">\n",
       "      <th></th>\n",
       "      <th>HS코드</th>\n",
       "      <th>코드명(품명)</th>\n",
       "    </tr>\n",
       "  </thead>\n",
       "  <tbody>\n",
       "    <tr>\n",
       "      <th>0</th>\n",
       "      <td>0101</td>\n",
       "      <td>Live horses, asses, mules and hinnies.</td>\n",
       "    </tr>\n",
       "    <tr>\n",
       "      <th>1</th>\n",
       "      <td>01012</td>\n",
       "      <td>Horses :</td>\n",
       "    </tr>\n",
       "    <tr>\n",
       "      <th>2</th>\n",
       "      <td>010121</td>\n",
       "      <td>Pure-bred breeding animals</td>\n",
       "    </tr>\n",
       "    <tr>\n",
       "      <th>3</th>\n",
       "      <td>0101211000</td>\n",
       "      <td>For farm breeding</td>\n",
       "    </tr>\n",
       "    <tr>\n",
       "      <th>4</th>\n",
       "      <td>0101219000</td>\n",
       "      <td>Other</td>\n",
       "    </tr>\n",
       "  </tbody>\n",
       "</table>\n",
       "</div>"
      ],
      "text/plain": [
       "         HS코드                                 코드명(품명)\n",
       "0        0101  Live horses, asses, mules and hinnies.\n",
       "1       01012                                Horses :\n",
       "2      010121              Pure-bred breeding animals\n",
       "3  0101211000                       For farm breeding\n",
       "4  0101219000                                   Other"
      ]
     },
     "execution_count": 1,
     "metadata": {},
     "output_type": "execute_result"
    }
   ],
   "source": [
    "import pandas as pd\n",
    "import numpy as np\n",
    "\n",
    "hs=pd.read_excel('2016(hsk)_data_1.1.xlsx',sheet_name='HS코드집',converters={'HS코드':str,'코드명(품명)':str})\n",
    "hs=hs.sort_index()\n",
    "hs.columns=['HS코드','코드명(품명)']\n",
    "\n",
    "print(hs.shape) \n",
    "\n",
    "hs[:5]"
   ]
  },
  {
   "cell_type": "code",
   "execution_count": 19,
   "metadata": {},
   "outputs": [
    {
     "data": {
      "text/plain": [
       "str"
      ]
     },
     "execution_count": 19,
     "metadata": {},
     "output_type": "execute_result"
    }
   ],
   "source": [
    "arr=np.array(hs)\n",
    "hscode = arr[:,0] #HS코드\n",
    "item = arr[:,1] #코드명(품명)\n",
    "\n",
    "#print(hscode)\n",
    "\n",
    "type(item[0])\n"
   ]
  },
  {
   "cell_type": "code",
   "execution_count": 20,
   "metadata": {},
   "outputs": [
    {
     "name": "stdout",
     "output_type": "stream",
     "text": [
      "(52, 3)\n"
     ]
    },
    {
     "data": {
      "text/html": [
       "<div>\n",
       "<style scoped>\n",
       "    .dataframe tbody tr th:only-of-type {\n",
       "        vertical-align: middle;\n",
       "    }\n",
       "\n",
       "    .dataframe tbody tr th {\n",
       "        vertical-align: top;\n",
       "    }\n",
       "\n",
       "    .dataframe thead th {\n",
       "        text-align: right;\n",
       "    }\n",
       "</style>\n",
       "<table border=\"1\" class=\"dataframe\">\n",
       "  <thead>\n",
       "    <tr style=\"text-align: right;\">\n",
       "      <th></th>\n",
       "      <th>HS코드</th>\n",
       "      <th>신고서상의 기재품명</th>\n",
       "      <th>HS코드명(품명)</th>\n",
       "    </tr>\n",
       "  </thead>\n",
       "  <tbody>\n",
       "    <tr>\n",
       "      <th>0</th>\n",
       "      <td>3921191010</td>\n",
       "      <td>SEPARATOR; RF5041;; 15㎛*66.6㎜</td>\n",
       "      <td>Separator, for manufacturing secondary battery</td>\n",
       "    </tr>\n",
       "    <tr>\n",
       "      <th>1</th>\n",
       "      <td>8517701029</td>\n",
       "      <td>Camera Module(1/5”3.7M), CM370RF05SN930F</td>\n",
       "      <td>Other</td>\n",
       "    </tr>\n",
       "    <tr>\n",
       "      <th>2</th>\n",
       "      <td>8481801030</td>\n",
       "      <td>PVM VALVE (02-432051-00)</td>\n",
       "      <td>Other automatically controlled</td>\n",
       "    </tr>\n",
       "    <tr>\n",
       "      <th>3</th>\n",
       "      <td>2104101000</td>\n",
       "      <td>Broths preparations of meat; KS ORGANIC CHICKE...</td>\n",
       "      <td>Of meat</td>\n",
       "    </tr>\n",
       "    <tr>\n",
       "      <th>4</th>\n",
       "      <td>1602509000</td>\n",
       "      <td>JACK LINK'S TENDER CUTS ; Traditional flavor ;...</td>\n",
       "      <td>Other</td>\n",
       "    </tr>\n",
       "  </tbody>\n",
       "</table>\n",
       "</div>"
      ],
      "text/plain": [
       "         HS코드                                         신고서상의 기재품명  \\\n",
       "0  3921191010                      SEPARATOR; RF5041;; 15㎛*66.6㎜   \n",
       "1  8517701029           Camera Module(1/5”3.7M), CM370RF05SN930F   \n",
       "2  8481801030                           PVM VALVE (02-432051-00)   \n",
       "3  2104101000  Broths preparations of meat; KS ORGANIC CHICKE...   \n",
       "4  1602509000  JACK LINK'S TENDER CUTS ; Traditional flavor ;...   \n",
       "\n",
       "                                        HS코드명(품명)  \n",
       "0  Separator, for manufacturing secondary battery  \n",
       "1                                           Other  \n",
       "2                  Other automatically controlled  \n",
       "3                                         Of meat  \n",
       "4                                           Other  "
      ]
     },
     "execution_count": 20,
     "metadata": {},
     "output_type": "execute_result"
    }
   ],
   "source": [
    "unmat=pd.read_excel('2016(hsk)_data_1.1.xlsx',sheet_name='비매칭신고사례',converters={'신고서상의 기재품명':str})\n",
    "unmat=unmat.sort_index()\n",
    "\n",
    "arr2=np.array(unmat)\n",
    "unmat_item=arr[:,1] #신고서상의 기재품명\n",
    "\n",
    "print(unmat.shape) \n",
    "\n",
    "unmat[:5]"
   ]
  },
  {
   "cell_type": "code",
   "execution_count": 3,
   "metadata": {},
   "outputs": [],
   "source": [
    "def split_by_n(string,offset):\n",
    "    return string[:offset]"
   ]
  },
  {
   "cell_type": "code",
   "execution_count": 4,
   "metadata": {
    "scrolled": false
   },
   "outputs": [],
   "source": [
    "def getcategory(codelst,offset):\n",
    "    hold='0'*offset\n",
    "    itemlist=[]\n",
    "    isValid=False #(codelst의 상품의 코드길이==offset) 인 상품 개수 > 0 이면 True\n",
    "        \n",
    "    #print(\"코드리스트\", codelst)\n",
    "    for code in codelst:\n",
    "        if(hold < split_by_n(code,offset) and len(code)>=offset):          \n",
    "            itemlist.append(item[list(hscode).index(code)])\n",
    "            hold=split_by_n(code,offset)\n",
    "        if(len(code)==offset): isValid=True\n",
    "\n",
    "    #for i in range(0,20):\n",
    "       # print(itemlist[i])\n",
    "        \n",
    "    if not isValid: itemlist=[]    \n",
    "        \n",
    "    #print(\"같은 코드길이의 itemlist\",itemlist)    \n",
    "    return itemlist   \n",
    "\n",
    "#getcategory(hscode,4)\n",
    "\n",
    "#print(itemlist) #: 해당 범주의 상품들이 출력된다. \n",
    "#ex) 가장 큰 범주의 HS코드번호 0101, 0102, 0103 ...0204, 020500, 0206 ... 의 상품명"
   ]
  },
  {
   "cell_type": "markdown",
   "metadata": {},
   "source": [
    "##3. Example of calculating the similarity between phrases using nltk and tf-idf"
   ]
  },
  {
   "cell_type": "code",
   "execution_count": 5,
   "metadata": {},
   "outputs": [
    {
     "name": "stdout",
     "output_type": "stream",
     "text": [
      "[nltk_data] Downloading package punkt to\n",
      "[nltk_data]     C:\\Users\\User\\AppData\\Roaming\\nltk_data...\n",
      "[nltk_data]   Package punkt is already up-to-date!\n",
      "0.9999999999999998\n",
      "0.7092972666062738\n",
      "0.0\n"
     ]
    }
   ],
   "source": [
    "import nltk, string\n",
    "from sklearn.feature_extraction.text import TfidfVectorizer\n",
    "\n",
    "nltk.download('punkt')\n",
    "\n",
    "stemmer = nltk.stem.porter.PorterStemmer()\n",
    "remove_punctuation_map = dict((ord(char), None) for char in string.punctuation)\n",
    "#여러가지 이유로 변화된 단어의 접미사나 어미를 제거하여 같은 의미를 가지는 형태소의 실제 형태를 동일하게 만든다.\n",
    "\n",
    "def stem_tokens(tokens):\n",
    "    return [stemmer.stem(item) for item in tokens]\n",
    "\n",
    "'''remove punctuation, lowercase, stem'''\n",
    "def normalize(text):\n",
    "    return stem_tokens(nltk.word_tokenize(text.lower().translate(remove_punctuation_map)))\n",
    "\n",
    "vectorizer = TfidfVectorizer(tokenizer=normalize, stop_words='english')\n",
    "\n",
    "def cosine_sim(text1, text2):\n",
    "    tfidf = vectorizer.fit_transform([text1, text2])\n",
    "    return ((tfidf * tfidf.T).A)[0,1]\n",
    "\n",
    "\n",
    "print (cosine_sim('a little bird', 'a little bird'))\n",
    "print (cosine_sim('a little bird', 'a little bird chirps'))\n",
    "print (cosine_sim('a little bird', 'a big dog barks'))"
   ]
  },
    {
   "cell_type": "markdown",
   "metadata": {},
   "source": [
    "##4. HS code modification"
   ]
  },
  {
   "cell_type": "code",
   "execution_count": 6,
   "metadata": {},
   "outputs": [],
   "source": [
    "from pprint import pprint"
   ]
  },
  {
   "cell_type": "code",
   "execution_count": 7,
   "metadata": {},
   "outputs": [],
   "source": [
    "def subclass(lst,head):\n",
    "    sublst=[] #소범주의 상품 리스트\n",
    "    offset=len(head)\n",
    "\n",
    "    for code in lst:\n",
    "        if(head==split_by_n(code,offset)):\n",
    "            sublst.append(code)   \n",
    "        \n",
    "    return sublst    "
   ]
  },
  {
   "cell_type": "code",
   "execution_count": 17,
   "metadata": {
    "scrolled": true
   },
   "outputs": [],
   "source": [
    "import operator\n",
    "\n",
    "def dictOfsim(unmat_str):\n",
    "    final_name=''\n",
    "    final_code=0\n",
    "    \n",
    "    codelst=hscode\n",
    "    itemlst=[]\n",
    "    \n",
    "    for offset in range(4,11):\n",
    "        print(\"\\n\\noffset: \",offset)\n",
    "        itemlst= getcategory(codelst,offset) #특정 offset 길이의 code를 head로 가지고 있는 itemlist를 얻는다.\n",
    "        if not itemlst: continue   #if list is empty -> go to the next loop \n",
    "        \n",
    "        sorted_d, d={},{}   \n",
    "        \n",
    "        for i in itemlst:\n",
    "            d[cosine_sim(unmat_str, i)]=i \n",
    "            #유사도가 전부 같은 경우 Other로 분류된다\n",
    "\n",
    "        sorted_d = sorted(d.items(), key=operator.itemgetter(0),reverse=True)        \n",
    "        pprint(sorted_d)\n",
    "        \n",
    "        #final_code=[j for j in codelst for k in itemlst if item[list(hscode).index(j)]==sorted_d[0][1]==itemlst[k]]\n",
    "        for j in codelst:\n",
    "            if (item[list(hscode).index(j)]==sorted_d[0][1] and (len(j)==offset or j[offset:]=='0'*(10-offset))):\n",
    "                final_code=j\n",
    "                #print(\"헤드코드\",final_code)\n",
    "                \n",
    "        final_name=sorted_d[0][1] + ', ' + final_name        \n",
    "        if(len(final_code)>9):break\n",
    "            \n",
    "        sublst = subclass(codelst, final_code)\n",
    "        codelst=sublst    \n",
    "        \n",
    "    final_name=final_name[:-2]\n",
    "    return final_code,final_name\n",
    "\n",
    "#dictOfsim('Vegetable Saps and Extract(Ginseng Leaves Extract) ; Acceleris ; CHINA')        "
   ]
  },
  {
   "cell_type": "code",
   "execution_count": 61,
   "metadata": {},
   "outputs": [],
   "source": [
    "#print(hscode[list(item).index(sorted_d[0][1])]) #가장 유사한 상품의 코드번호\n",
    "\n",
    "#print(sorted_d[0][1]) #가장 유사한 상품명\n",
    "\n",
    "#pprint(sorted_d) #list of dictionary, 유사도 내림차순"
   ]
  },
  {
   "cell_type": "code",
   "execution_count": null,
   "metadata": {},
   "outputs": [],
   "source": []
  },
  {
   "cell_type": "code",
   "execution_count": null,
   "metadata": {},
   "outputs": [],
   "source": []
  }
 ],
 "metadata": {
  "kernelspec": {
   "display_name": "Python 3",
   "language": "python",
   "name": "python3"
  },
  "language_info": {
   "codemirror_mode": {
    "name": "ipython",
    "version": 3
   },
   "file_extension": ".py",
   "mimetype": "text/x-python",
   "name": "python",
   "nbconvert_exporter": "python",
   "pygments_lexer": "ipython3",
   "version": "3.6.5"
  }
 },
 "nbformat": 4,
 "nbformat_minor": 2
}
