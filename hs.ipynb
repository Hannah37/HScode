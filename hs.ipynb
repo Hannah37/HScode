{
 "cells": [
  {
   "cell_type": "markdown",
   "metadata": {},
   "source": [
    "1. Example of calculating the similarity between words using pre-trained wiki word vectors"
   ]
  },
  {
   "cell_type": "code",
   "execution_count": 8,
   "metadata": {},
   "outputs": [
    {
     "name": "stderr",
     "output_type": "stream",
     "text": [
      "C:\\Anaconda3\\lib\\site-packages\\gensim\\utils.py:1197: UserWarning: detected Windows; aliasing chunkize to chunkize_serial\n",
      "  warnings.warn(\"detected Windows; aliasing chunkize to chunkize_serial\")\n"
     ]
    },
    {
     "data": {
      "text/plain": [
       "[('woman', 0.6511167287826538),\n",
       " ('man—', 0.5554498434066772),\n",
       " ('man/one', 0.5516811609268188),\n",
       " ('stranger', 0.5505865216255188),\n",
       " ('boy', 0.5456836223602295),\n",
       " ('woman—a', 0.5385604500770569),\n",
       " ('spider', 0.5372462272644043),\n",
       " ('girl', 0.5341853499412537),\n",
       " ('man—a', 0.5321135520935059),\n",
       " ('man—and', 0.5311824083328247)]"
      ]
     },
     "execution_count": 8,
     "metadata": {},
     "output_type": "execute_result"
    }
   ],
   "source": [
    "from gensim.models.keyedvectors import KeyedVectors\n",
    "corpus=KeyedVectors.load_word2vec_format(\"wiki.en.vec\")\n",
    "corpus.most_similar(\"man\")\n"
   ]
  },
  {
   "cell_type": "code",
   "execution_count": 68,
   "metadata": {
    "scrolled": true
   },
   "outputs": [
    {
     "data": {
      "text/plain": [
       "gensim.models.keyedvectors.Word2VecKeyedVectors"
      ]
     },
     "execution_count": 68,
     "metadata": {},
     "output_type": "execute_result"
    }
   ],
   "source": [
    "type(corpus)"
   ]
  },
  {
   "cell_type": "code",
   "execution_count": 24,
   "metadata": {},
   "outputs": [
    {
     "data": {
      "text/plain": [
       "0.23583984923717163"
      ]
     },
     "execution_count": 24,
     "metadata": {},
     "output_type": "execute_result"
    }
   ],
   "source": [
    "corpus.similarity('vegetable','horse')"
   ]
  },
  {
   "cell_type": "code",
   "execution_count": 29,
   "metadata": {},
   "outputs": [
    {
     "data": {
      "text/plain": [
       "0.5242442005632283"
      ]
     },
     "execution_count": 29,
     "metadata": {},
     "output_type": "execute_result"
    }
   ],
   "source": [
    "corpus.similarity('donkey','horse')"
   ]
  },
  {
   "cell_type": "markdown",
   "metadata": {},
   "source": [
   "2. Classification of HScode.xlsx file accoring to the size of item categories \n",
    "\n",
    "Find a code in the bigger to smaller categories."
   ]
  },
  {
   "cell_type": "code",
   "execution_count": 153,
   "metadata": {},
   "outputs": [
    {
     "name": "stdout",
     "output_type": "stream",
     "text": [
      "(17966, 2)\n"
     ]
    },
    {
     "data": {
      "text/html": [
       "<div>\n",
       "<style scoped>\n",
       "    .dataframe tbody tr th:only-of-type {\n",
       "        vertical-align: middle;\n",
       "    }\n",
       "\n",
       "    .dataframe tbody tr th {\n",
       "        vertical-align: top;\n",
       "    }\n",
       "\n",
       "    .dataframe thead th {\n",
       "        text-align: right;\n",
       "    }\n",
       "</style>\n",
       "<table border=\"1\" class=\"dataframe\">\n",
       "  <thead>\n",
       "    <tr style=\"text-align: right;\">\n",
       "      <th></th>\n",
       "      <th>HS코드</th>\n",
       "      <th>코드명(품명)</th>\n",
       "    </tr>\n",
       "  </thead>\n",
       "  <tbody>\n",
       "    <tr>\n",
       "      <th>0</th>\n",
       "      <td>0101</td>\n",
       "      <td>Live horses, asses, mules and hinnies.</td>\n",
       "    </tr>\n",
       "    <tr>\n",
       "      <th>1</th>\n",
       "      <td>01012</td>\n",
       "      <td>Horses :</td>\n",
       "    </tr>\n",
       "    <tr>\n",
       "      <th>2</th>\n",
       "      <td>010121</td>\n",
       "      <td>Pure-bred breeding animals</td>\n",
       "    </tr>\n",
       "  </tbody>\n",
       "</table>\n",
       "</div>"
      ],
      "text/plain": [
       "     HS코드                                 코드명(품명)\n",
       "0    0101  Live horses, asses, mules and hinnies.\n",
       "1   01012                                Horses :\n",
       "2  010121              Pure-bred breeding animals"
      ]
     },
     "execution_count": 153,
     "metadata": {},
     "output_type": "execute_result"
    }
   ],
   "source": [
    "import pandas as pd\n",
    "import numpy as np\n",
    "\n",
    "hs=pd.read_excel('2016(hsk)_data_1.1.xlsx',sheet_name='HS코드집',converters={'HS코드':str,'코드명(품명)':str})\n",
    "hs=hs.sort_index()\n",
    "hs.columns=['HS코드','코드명(품명)']\n",
    "\n",
    "print(hs.shape) \n",
    "\n",
    "hs[:3]"
   ]
  },
  {
   "cell_type": "code",
   "execution_count": 159,
   "metadata": {},
   "outputs": [
    {
     "data": {
      "text/plain": [
       "<class 'str'>"
      ]
     },
     "execution_count": 159,
     "metadata": {},
     "output_type": "execute_result"
    }
   ],
   "source": [
    "arr=np.array(hs)\n",
    "hscode = arr[:,0] #HS코드\n",
    "item = arr[:,1] #코드명(품명)\n",
    "\n",
    "#print(hscode)\n",
    "\n",
    "type(item[0])\n"
   ]
  },
  {
   "cell_type": "code",
   "execution_count": 160,
   "metadata": {},
   "outputs": [],
   "source": [
    "def split_by_n(string,offset):\n",
    "    return string[:offset]\n",
    "\n",
    "#print(split_by_offset('0234921',4))"
   ]
  },
  {
   "cell_type": "code",
   "execution_count": 161,
   "metadata": {
    "scrolled": false
   },
   "outputs": [
    {
     "name": "stdout",
     "output_type": "stream",
     "text": [
      "1224\n",
      "Live horses, asses, mules and hinnies.\n",
      "Live bovine animals.\n",
      "Live swine.\n",
      "Live sheep and goats.\n",
      "Live poultry, that is to say, fowls of the species Gallus domesticus, ducks, geese, turkeys and guinea fowls.\n",
      "Other live animals.\n",
      "Meat of bovine animals, fresh or chilled.\n",
      "Meat of bovine animals, frozen.\n",
      "Meat of swine, fresh, chilled or frozen.\n",
      "Meat of sheep or goats, fresh, chilled or frozen.\n",
      "Meat of horses, asses, mules or hinnies, fresh, chilled or frozen.\n",
      "Edible offal of bovine animals, swine, sheep, goats, horses, asses, mules or hinnies, fresh, chilled or frozen.\n",
      "Meat and edible offal, of the poultry of heading 01.05, fresh, chilled or frozen.\n",
      "Other meat and edible meat offal, fresh, chilled or frozen.\n",
      "Pig fat, free of lean meat, and poultry fat, not rendered or otherwise extracted, fresh, chilled, frozen, salted, in brine, dried or smoked.\n",
      "Meat and edible meat offal, salted, in brine, dried or smoked; edible flours and meals of meat or meat offal.\n",
      "Live fish.\n",
      "Fish, fresh or chilled, excluding fish fillets and other fish meat of heading 03.04.\n",
      "Fish, frozen, excluding fish fillets and other fish meat of heading 03.04.\n",
      "Fish fillets and other fish meat (whether or not minced), fresh, chilled or frozen.\n"
     ]
    }
   ],
   "source": [
    "hold='0000'\n",
    "itemlist=[]\n",
    "for code in hscode:\n",
    "    if(hold < split_by_n(code,4)):\n",
    "        itemlist.append(item[list(hscode).index(code)])\n",
    "        hold=split_by_n(code,4)\n",
    "\n",
    "print(len(itemlist))\n",
    "\n",
    "for i in range(0,20):\n",
    "    print(itemlist[i])\n",
    "\n",
    "#print(itemlist) #: 가장 큰 범주의 상품들이 출력된다. \n",
    "#ex) HS코드번호 0101, 0102, 0103 ...0204, 020500, 0206 ... 의 상품명"
   ]
  },
  {
   "cell_type": "markdown",
   "metadata": {},
   "source": [
   " 3. Example of calculating the similarity between phrases using nltk and tf-idf"
   ]
  },
  {
   "cell_type": "code",
   "execution_count": 96,
   "metadata": {},
   "outputs": [
    {
     "name": "stdout",
     "output_type": "stream",
     "text": [
      "[nltk_data] Downloading package punkt to\n",
      "[nltk_data]     C:\\Users\\User\\AppData\\Roaming\\nltk_data...\n",
      "[nltk_data]   Unzipping tokenizers\\punkt.zip.\n",
      "0.9999999999999998\n",
      "0.7092972666062738\n",
      "0.0\n"
     ]
    }
   ],
   "source": [
    "import nltk, string\n",
    "from sklearn.feature_extraction.text import TfidfVectorizer\n",
    "\n",
    "nltk.download('punkt')\n",
    "\n",
    "stemmer = nltk.stem.porter.PorterStemmer()\n",
    "remove_punctuation_map = dict((ord(char), None) for char in string.punctuation)\n",
    "#여러가지 이유로 변화된 단어의 접미사나 어미를 제거하여 같은 의미를 가지는 형태소의 실제 형태를 동일하게 만든다.\n",
    "\n",
    "def stem_tokens(tokens):\n",
    "    return [stemmer.stem(item) for item in tokens]\n",
    "\n",
    "'''remove punctuation, lowercase, stem'''\n",
    "def normalize(text):\n",
    "    return stem_tokens(nltk.word_tokenize(text.lower().translate(remove_punctuation_map)))\n",
    "\n",
    "vectorizer = TfidfVectorizer(tokenizer=normalize, stop_words='english')\n",
    "\n",
    "def cosine_sim(text1, text2):\n",
    "    tfidf = vectorizer.fit_transform([text1, text2])\n",
    "    return ((tfidf * tfidf.T).A)[0,1]\n",
    "\n",
    "\n",
    "print (cosine_sim('a little bird', 'a little bird'))\n",
    "print (cosine_sim('a little bird', 'a little bird chirps'))\n",
    "print (cosine_sim('a little bird', 'a big dog barks'))"
   ]
  },
  {
   "cell_type": "code",
   "execution_count": 124,
   "metadata": {},
   "outputs": [],
   "source": [
    "import operator\n",
    "\n",
    "d={}\n",
    "\n",
    "for item in itemlist:\n",
    "    d[cosine_sim('MIXED SEASONINGS POWDER', item)]=item    \n",
    "        \n",
    "sorted_d = sorted(d.items(), key=operator.itemgetter(0),reverse=True)        "
   ]
  },
  {
   "cell_type": "code",
   "execution_count": 125,
   "metadata": {},
   "outputs": [],
   "source": [
    "from pprint import pprint"
   ]
  },
  {
   "cell_type": "code",
   "execution_count": 144,
   "metadata": {},
   "outputs": [
    {
     "name": "stdout",
     "output_type": "stream",
     "text": [
      "2103\n",
      "[(0.2716512395696402,\n",
      "  'Sauces and preparations therefor; mixed condiments and mixed seasoning; '\n",
      "  'mustard flour and meal and prepared mustard.'),\n",
      " (0.2605556710562624, 'Propellent powders.'),\n",
      " (0.24129913647238907,\n",
      "  'Mixed alkylbenzenes and mixed alkylnaphthalenes, other than those of '\n",
      "  'heading 2707 or 2902.'),\n",
      " (0.20199309249791833, 'Aluminium powders and flakes.'),\n",
      " (0.17077611319011649, 'Zinc dust, powders and flakes.'),\n",
      " (0.13328417694886524,\n",
      "  'Animal or vegetable fertilisers, whether or not mixed together or '\n",
      "  'chemically treated; fertilisers produced by the mixing or chemical '\n",
      "  'treatment of animal or vegetable products.'),\n",
      " (0.1322483762954801,\n",
      "  'Machinery for sorting, screening, separating, washing, crushing, grinding, '\n",
      "  'mixing or kneading earth, stone, ores or other mineral substances, in solid '\n",
      "  '(including powder or paste) form; machinery for agglomerating, shaping or '\n",
      "  'moulding solid mineral fuels, ceramic paste, unhardened cements, plastering '\n",
      "  'materials or other mineral products in powder or paste form; machines for '\n",
      "  'forming foundry moulds of sand.'),\n",
      " (0.12536693798731732,\n",
      "  'Dust and powder of natural or synthetic precious or semi-precious stones.'),\n",
      " (0.11671773546032795,\n",
      "  'Platinum, unwrought or in semi-manufactured forms, or in powder form.'),\n",
      " (0.10964258683453854,\n",
      "  'Granules and powders, of pig iron, spiegeleisen, iron or steel.'),\n",
      " (0.10371551133313005,\n",
      "  'Lead plates, sheets, strip and foil; lead powders and flakes.'),\n",
      " (0.09427171364984963,\n",
      "  'Waste, parings and scrap of rubber (other than hard rubber) and powders and '\n",
      "  'granules obtained therefrom.'),\n",
      " (0.09042421401858965,\n",
      "  'Peptones and their derivatives; other protein substances and their '\n",
      "  'derivatives, not elsewhere specified or included; hide powder, whether or '\n",
      "  'not chromed.'),\n",
      " (0.08701234950451958,\n",
      "  'Bones and horn-cores, unworked, defatted, simply prepared (but not cut to '\n",
      "  'shape), treated with acid or degelatinised; powder and waste of these '\n",
      "  'products.'),\n",
      " (0.08701234950451957,\n",
      "  'Gold (including gold plated with platinum) unwrought or in '\n",
      "  'semi-manufactured forms, or in powder form.'),\n",
      " (0.08395966598126195,\n",
      "  'Silver (including silver plated with gold or platinum), unwrought or in '\n",
      "  'semi-manufactured forms, or in powder form.'),\n",
      " (0.08120726507434861,\n",
      "  'Lard stearin, lard oil, oleostearin, oleo-oil and tallow oil, not '\n",
      "  'emulsified or mixed or otherwise prepared.'),\n",
      " (0.07870893949125285,\n",
      "  'Woven fabrics of cotton, containing less than 85 % by weight of cotton, '\n",
      "  'mixed mainly or solely with man-made fibres, weighing more than 200 g/㎡.'),\n",
      " (0.07870893949125284,\n",
      "  'Natural or artificial, abrasive powder or grain, on a base of textile '\n",
      "  'material, of paper, of paperboard or of other materials, whether or not cut '\n",
      "  'to shape or sewn or otherwise made up.'),\n",
      " (0.07642786054574813,\n",
      "  'Flour, meal and powder of the dried leguminous vegetables of heading 07.13, '\n",
      "  'of sago or of roots or tubers of heading 07.14 or of the products of '\n",
      "  'Chapter 8.'),\n",
      " (0.07240380080811215,\n",
      "  'Preparations for oral or dental hygiene, including denture fixative pastes '\n",
      "  'and powders; yarn used to clean between the teeth (dental floss), in '\n",
      "  'individual retail packages.'),\n",
      " (0.0706163279953344,\n",
      "  'Woven fabrics of synthetic staple fibres, containing less than 85 % by '\n",
      "  'weight of such fibres, mixed mainly or solely with cotton, of a weight '\n",
      "  'exceeding 170 g/㎡.'),\n",
      " (0.0659563434946674,\n",
      "  'Metallised yarn, whether or not gimped,being textile yarn, or strip or the '\n",
      "  'like of heading 54.04 or 54.05, combined with metal in the form of thread, '\n",
      "  'strip or powder or covered with metal.'),\n",
      " (0.06331767160329242,\n",
      "  'Medicaments (excluding goods of heading 30.02, 30.05 or 30.06) consisting '\n",
      "  'of mixed or unmixed products for therapeutic or prophylactic uses, put up '\n",
      "  'in measured doses (including those in the form of transdermal '\n",
      "  'administration systems) or in forms or packings for retail sale.'),\n",
      " (0.06211179713981929,\n",
      "  'Other sugars, including chemically pure lactose, maltose, glucose and '\n",
      "  'fructose, in solid form; sugar syrups not containing added flavouring or '\n",
      "  'colouring matter; artificial honey, whether or not mixed with natural '\n",
      "  'honey; caramel.'),\n",
      " (0.06211179713981928,\n",
      "  'Coral and similar materials, unworked or simply prepared but not otherwise '\n",
      "  'worked; shells of molluscs, crustaceans or echinoderms and cuttle-bone, '\n",
      "  'unworked or simply prepared but not cut to shape, powder and waste '\n",
      "  'thereof.'),\n",
      " (0.06097229545515699,\n",
      "  'Dolomite, whether or not calcined or sintered, including dolomite roughly '\n",
      "  'trimmed or merely cut, by sawing or otherwise, into blocks or slabs of a '\n",
      "  'rectangular (including square) shape; dolomite ramming mix.'),\n",
      " (0.05886961915953984,\n",
      "  'Pigments (including metallic powders and flakes) dispersed in non-aqueous '\n",
      "  'media, in liquid or paste form, of a kind used in the manufacture of paints '\n",
      "  '(including enamels); stamping foils; dyes and other colouring matter put up '\n",
      "  'in forms or packings for retail sale.'),\n",
      " (0.05697047952393309,\n",
      "  'Mechanical appliances (whether or not hand-operated) for projecting, '\n",
      "  'dispersing or spraying liquids or powders; fire extinguishers, whether or '\n",
      "  'not charged; spray guns and similar appliances; steam or sand blasting '\n",
      "  'machines and similar jet projecting machines.'),\n",
      " (0.05524402556623144,\n",
      "  'Polishes and creams, for footwear, furniture, floors, coachwork, glass or '\n",
      "  'metal, scouring pastes and powders and similar preparations (whether or not '\n",
      "  'in the form of paper, wadding, felt, nonwovens, cellular plastics or '\n",
      "  'cellular rubber, impregnated, coated or covered with such preparations), '\n",
      "  'excluding waxes of heading 34.04.'),\n",
      " (0.053665579619274116,\n",
      "  'Glands and other organs for organo-therapeutic uses, dried, whether or not '\n",
      "  'powdered; extracts of glands or other organs or of their secretions for '\n",
      "  'organo-therapeutic uses; heparin and its salts; other human or animal '\n",
      "  'substances prepared for therapeutic or prophylactic uses, not elsewhere '\n",
      "  'specified or included.'),\n",
      " (0.04963539399235201,\n",
      "  'Worked monumental or building stone (except slate) and articles thereof, '\n",
      "  'other than goods of heading 68.01; mosaic cubes and the like, of natural '\n",
      "  'stone (including slate), whether or not on a backing; artificially coloured '\n",
      "  'granules, chipping and powder, of natural stone (including slate).'),\n",
      " (0.04848109221283395,\n",
      "  'Pickling preparations for metal surfaces; fluxes and other auxiliary '\n",
      "  'preparations for soldering, brazing or welding;  soldering, brazing or '\n",
      "  'welding powders and pastes consisting of metal and other materials; '\n",
      "  'preparations of a kind used as cores or coatings for welding electrodes or '\n",
      "  'rods.'),\n",
      " (0.047933342971158026,\n",
      "  'Pebbles, gravel, broken or crushed stone, of a kind commonly used for '\n",
      "  'concrete aggregates, for road metalling or for railway or other ballast, '\n",
      "  'shingle and flint, whether or not heat-treated; macadam of slag, dross or '\n",
      "  'similar industrial waste, whether or not incorporating the materials cited '\n",
      "  'in the first part of the heading; tarred macadam; granules, chippings and '\n",
      "  'powder, of stones of heading 25.15 or 25.16, whether or not heat-treated.'),\n",
      " (0.04639517780041313,\n",
      "  'Prepared pigments, prepared opacifiers and prepared colours, vitrifiable '\n",
      "  'enamels and glazes, engobes (slips), liquid lustres and similar '\n",
      "  'preparations, of a kind used in the ceramic, enamelling or glass industry; '\n",
      "  'glass frit and other glass, in the form of powder, granules or flakes.'),\n",
      " (0.03921181818017503,\n",
      "  'Composition leather with a basis of leather or leather fibre, in slabs, '\n",
      "  'sheets or strip, whether or not in rolls; parings and other waste of '\n",
      "  'leather or of composition leather, not suitable for the manufacture of '\n",
      "  'leather articles; leather dust, powder and flour.'),\n",
      " (0.03755437051742002,\n",
      "  'Wire, rods, tubes, plates, electrodes and similar products, of base metal '\n",
      "  'or of metal carbides, coated or cored with flux material, of a kind used '\n",
      "  'for soldering, brazing, welding or deposition of metal or of metal '\n",
      "  'carbides; wire and rods, of agglomerated base metal powder, used for metal '\n",
      "  'spraying.'),\n",
      " (0.0, 'Antiques of an age exceeding one hundred years.')]\n"
     ]
    }
   ],
   "source": [
    "print(hscode[list(item).index(sorted_d[0][1])]) #가장 유사한 상품의 코드번호\n",
    "\n",
    "#print(sorted_d[0][1]) #가장 유사한 상품명\n",
    "\n",
    "pprint(sorted_d) #list of dictionary, 유사도 내림차순"
   ]
  },
  {
   "cell_type": "code",
   "execution_count": null,
   "metadata": {},
   "outputs": [],
   "source": []
  },
  {
   "cell_type": "code",
   "execution_count": null,
   "metadata": {},
   "outputs": [],
   "source": []
  }
 ],
 "metadata": {
  "kernelspec": {
   "display_name": "Python 3",
   "language": "python",
   "name": "python3"
  },
  "language_info": {
   "codemirror_mode": {
    "name": "ipython",
    "version": 3
   },
   "file_extension": ".py",
   "mimetype": "text/x-python",
   "name": "python",
   "nbconvert_exporter": "python",
   "pygments_lexer": "ipython3",
   "version": "3.6.5"
  }
 },
 "nbformat": 4,
 "nbformat_minor": 2
}
